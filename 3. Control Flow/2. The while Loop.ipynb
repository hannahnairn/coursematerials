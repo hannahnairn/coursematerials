{
 "cells": [
  {
   "cell_type": "markdown",
   "id": "1783357f-7ef5-4260-b703-5b20ef4e26f2",
   "metadata": {},
   "source": [
    "# The while Loop"
   ]
  },
  {
   "cell_type": "markdown",
   "id": "0dc03e8c-8978-46fb-a445-f826ce3265c2",
   "metadata": {},
   "source": [
    "Python has two loop statements. This notebook will cover the first loop statement - while - in Python, and you'll be left with an understanding of how to use the while loop."
   ]
  },
  {
   "cell_type": "markdown",
   "id": "0fa88db6-1c05-420e-a185-3c3a0ce63492",
   "metadata": {},
   "source": [
    "## What is the while Loop\n",
    "The while loop allows you to run a piece of code as long as a condition is met and true; the loop will then break once this becomes false."
   ]
  },
  {
   "cell_type": "code",
   "execution_count": null,
   "id": "97987c17-bf2e-4ec2-8176-3b32e4415a7f",
   "metadata": {},
   "outputs": [],
   "source": [
    "while #something equals true :\n",
    "    #do something"
   ]
  },
  {
   "cell_type": "markdown",
   "id": "8e38823b-f99b-4491-be8c-5dbd8786caae",
   "metadata": {},
   "source": [
    "## Some Examples\n",
    "### Counting Down Example\n",
    "The below code snippet shows a basic while loop; with each loop, the counter number will be reduced by 1 until the number is 0."
   ]
  },
  {
   "cell_type": "code",
   "execution_count": 1,
   "id": "c0d96630-8e45-4701-88ab-469e8bae2c87",
   "metadata": {},
   "outputs": [
    {
     "name": "stdout",
     "output_type": "stream",
     "text": [
      "6\n",
      "5\n",
      "4\n",
      "3\n",
      "2\n",
      "1\n",
      "0\n"
     ]
    }
   ],
   "source": [
    "total = 7\n",
    "\n",
    "while total > 0:\n",
    "    total = total - 1 #could also be written as total -= 1\n",
    "    print(total)"
   ]
  },
  {
   "cell_type": "markdown",
   "id": "d76d2775-7e43-4759-bbdd-ad2a00129a11",
   "metadata": {},
   "source": [
    "### Guessing Game Example\n",
    "\n",
    "Here is a more complex example of a guessing program, the user would have three attempts to guess the correct number."
   ]
  },
  {
   "cell_type": "code",
   "execution_count": 2,
   "id": "b64ff983-2a2c-4843-a30b-abfb85e56bf3",
   "metadata": {},
   "outputs": [
    {
     "name": "stdin",
     "output_type": "stream",
     "text": [
      "Guess the secert number:  23\n",
      "Guess the secert number:  67\n",
      "Guess the secert number:  39\n"
     ]
    },
    {
     "name": "stdout",
     "output_type": "stream",
     "text": [
      "You ran out of guesses, Try again later.\n"
     ]
    }
   ],
   "source": [
    "number = 45\n",
    "guesses = 0\n",
    "\n",
    "while guesses < 3:\n",
    "    #allow user to guess using user input (we will cover this in more detail in a future notebook)\n",
    "    userGuess = int(input(\"Guess the secert number: \"))\n",
    "    if userGuess != number:\n",
    "        guesses = guesses + 1\n",
    "    else:\n",
    "        print(\"You guessed the correct number!\")\n",
    "#once the while loop is broken because guesses is now at three the user will be displayed with this message\n",
    "print(\"You ran out of guesses, Try again later.\")"
   ]
  },
  {
   "cell_type": "markdown",
   "id": "5b7ea4ef-faab-41e1-a18d-dab9d072de3a",
   "metadata": {},
   "source": [
    "## break and continue statement\n",
    "There are two statements in which you can control the loop outwith the condition becoming false. The while loop will be terminated when the **break** statement is used. The **continue** statement will end the current iteration and go back to the top of the while loop."
   ]
  },
  {
   "cell_type": "code",
   "execution_count": 3,
   "id": "b0409bb8-2b6f-4d22-a8bd-8cf8de504c0c",
   "metadata": {},
   "outputs": [
    {
     "name": "stdout",
     "output_type": "stream",
     "text": [
      "5\n",
      "4\n",
      "Loop has been terminated\n"
     ]
    }
   ],
   "source": [
    "#break statement example use\n",
    "total = 6\n",
    "while total > 0:\n",
    "    total = total - 1 #could also be written as total -= 1\n",
    "    if total == 3:\n",
    "        break\n",
    "    print(total)\n",
    "print(\"Loop has been terminated\")"
   ]
  },
  {
   "cell_type": "markdown",
   "id": "b357d1dc-3bbf-42f8-bc0a-d35a58ab78b8",
   "metadata": {},
   "source": [
    "The same code except the break is replaced with continue:"
   ]
  },
  {
   "cell_type": "code",
   "execution_count": 4,
   "id": "b4cfbb9e-c2c8-4721-97bf-b4bfcd359a43",
   "metadata": {},
   "outputs": [
    {
     "name": "stdout",
     "output_type": "stream",
     "text": [
      "5\n",
      "4\n",
      "2\n",
      "1\n",
      "0\n",
      "Loop has been terminated\n"
     ]
    }
   ],
   "source": [
    "#break statement example use\n",
    "total = 6\n",
    "while total > 0:\n",
    "    total = total - 1 #could also be written as total -= 1\n",
    "    if total == 3:\n",
    "        continue\n",
    "    print(total)\n",
    "print(\"Loop has been terminated\")"
   ]
  },
  {
   "cell_type": "markdown",
   "id": "29264153-67ac-4c35-b82c-59ba534fe460",
   "metadata": {},
   "source": [
    "As you can see, when total == 3, the continue statement terminated that iteration, thus not printing the value of total and continuing onto the next iteration of the loop."
   ]
  },
  {
   "cell_type": "markdown",
   "id": "099799f8-8ea8-4bde-b777-0f722005340e",
   "metadata": {},
   "source": [
    "## else Statement\n",
    "Like the if statement, the while loop also has an else statement. This is used to provide the answer of once the while condition is not met and false.\n",
    "\n",
    "So taking by one of the earlier examples and adding the else statement, it will look like this:"
   ]
  },
  {
   "cell_type": "code",
   "execution_count": 5,
   "id": "041a8bb9-9c17-4b24-8d9d-65ceb8afbdba",
   "metadata": {},
   "outputs": [
    {
     "name": "stdout",
     "output_type": "stream",
     "text": [
      "6\n",
      "5\n",
      "4\n",
      "3\n",
      "2\n",
      "1\n",
      "0\n",
      "Total has reached zero\n"
     ]
    }
   ],
   "source": [
    "total = 7\n",
    "\n",
    "while total > 0:\n",
    "    total = total - 1 #could also be written as total -= 1\n",
    "    print(total)\n",
    "else:\n",
    "    print(\"Total has reached zero\")\n",
    "    #could go on and run more code, a if statement or call a function"
   ]
  },
  {
   "cell_type": "markdown",
   "id": "686ba4ef-2a5e-469a-99e3-2ef546e741cf",
   "metadata": {},
   "source": [
    "While loops can have while loops inside them (nested loops) if statements or for loops and can become quite complex, try to edit some of the examples to be more in context and complex. \n",
    "\n",
    "### Common Error using while Statements\n",
    "The one thing to remember is a while loop will loop forever if the statement will never be false. So if you write *while True:*, the loop will never end without crashing out of running the code."
   ]
  },
  {
   "cell_type": "markdown",
   "id": "cfa5d38c-261f-42cc-865b-7b2b6df31d5c",
   "metadata": {},
   "source": [
    "## Try it Out Yourself\n",
    "\n",
    "Now that you have gone through the notebook, try editing some of the code snippets above, add if statements into the while loops and try and make them practical while loops in context - take another look at the guessing game code for ideas.\n",
    "\n",
    "Below is an empty code snippet for you to try out what has been covered in this notebook. You can run, stop and restart the code snippet as many times as you want by using the icons at the top of this notebook."
   ]
  },
  {
   "cell_type": "code",
   "execution_count": 6,
   "id": "f7ad5893-abc3-4c1f-abbe-8bb28c575636",
   "metadata": {},
   "outputs": [],
   "source": [
    "#Enter your own code here\n",
    "\n",
    "\n",
    "\n",
    "\n",
    "\n",
    "\n",
    "\n",
    "\n"
   ]
  }
 ],
 "metadata": {
  "kernelspec": {
   "display_name": "Python 3 (ipykernel)",
   "language": "python",
   "name": "python3"
  },
  "language_info": {
   "codemirror_mode": {
    "name": "ipython",
    "version": 3
   },
   "file_extension": ".py",
   "mimetype": "text/x-python",
   "name": "python",
   "nbconvert_exporter": "python",
   "pygments_lexer": "ipython3",
   "version": "3.8.10"
  }
 },
 "nbformat": 4,
 "nbformat_minor": 5
}
