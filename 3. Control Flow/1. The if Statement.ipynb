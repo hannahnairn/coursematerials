{
 "cells": [
  {
   "cell_type": "markdown",
   "id": "bd7be10b-170f-4a07-b3d9-4d321c0e6b23",
   "metadata": {},
   "source": [
    "# The if Statement"
   ]
  },
  {
   "cell_type": "markdown",
   "id": "1bc2d76c-dd36-41be-abae-1537a446a317",
   "metadata": {},
   "source": [
    "This notebook will cover the if statement in Python, and you'll be left with an understanding of how to use the if statement in a program."
   ]
  },
  {
   "cell_type": "markdown",
   "id": "90ddb875-1be1-4d7d-b36b-d2051a306c3d",
   "metadata": {},
   "source": [
    "## What is an if Statement\n",
    "You can use an if statement to check if a variable meets specific criteria. It follows the below structure:"
   ]
  },
  {
   "cell_type": "code",
   "execution_count": null,
   "id": "f4ad0195-f9e9-4f7c-bcef-b7bf6546e423",
   "metadata": {},
   "outputs": [],
   "source": [
    "if #something is true or false :\n",
    "    #do something\n",
    "elif #something is true of false : # this line is optional its not essential to the statement and there can also be mulitple elif\n",
    "    #do something else\n",
    "else:\n",
    "    #last do something "
   ]
  },
  {
   "cell_type": "markdown",
   "id": "8f741e4b-94dd-4139-8ce9-316099a20956",
   "metadata": {},
   "source": [
    "An if statement can be used for but not limited to:\n",
    " - input validation - making sure whatever the user had entered is a valid option for the program, we will go over this in a future notebook.\n",
    " - categorising - an example of this could be generating test grades from test percentages.\n",
    " - a choice - an example could be a menu of options for the user to choose from and actioning the one the user chooses.\n",
    " \n",
    "An if statement can be used for anything you can think of which has options"
   ]
  },
  {
   "cell_type": "markdown",
   "id": "0dd7f6a0-35e4-4cdd-a596-11d48821509b",
   "metadata": {},
   "source": [
    "## The Syntax\n",
    "To start with we will look at what can come after **if** in the statement. Here is a simple if statement we will go through:"
   ]
  },
  {
   "cell_type": "code",
   "execution_count": 2,
   "id": "0f1f5c8c-10e3-4b34-904b-1a6161d61c7f",
   "metadata": {},
   "outputs": [
    {
     "name": "stdout",
     "output_type": "stream",
     "text": [
      "a is larger than 5\n"
     ]
    }
   ],
   "source": [
    "a = 9\n",
    "if a > 5:\n",
    "    print(\"a is larger than 5\")\n",
    "else:\n",
    "    print(\"a is smaller than 5\")"
   ]
  },
  {
   "cell_type": "markdown",
   "id": "2a1270d2-e2f2-4d50-839d-29552973178c",
   "metadata": {},
   "source": [
    "We start with declaring a variable with an integer value, and we want to know if it's larger or smaller than 5. Using operators covered in an earlier notebook, we can find this out. Whatever is after the if (or elif in complex statements) must have a true or false result. It's exactly the same as operators just adding the if at the start of the line.\n",
    "\n",
    "So if the operator result is true, the code indented under the if line will be actioned. If the operator result is false, it will go to the following line, in this case else.\n",
    "\n",
    "Else is the last resort option in an if statement- if nothing above is true, it has to be this. Hence there is no statement to be true or false.\n",
    "\n",
    "**Try it Out Yourself:** try changing the value of a and see how the output changed depending on if the number is smaller or larger than 5. "
   ]
  },
  {
   "cell_type": "markdown",
   "id": "81aad0fe-4523-4f37-b5c5-e89d86ab8a4d",
   "metadata": {},
   "source": [
    "#### if Statements and Operators\n",
    "\n",
    "All the rules of operators work with if statements. If statements are a great way of putting operators to contextual use. Feel free and go back to the operators notebook to refresh on operators as they will be used a lot in this notebook."
   ]
  },
  {
   "cell_type": "markdown",
   "id": "3a76d143-0d49-4526-9eea-5121784f9562",
   "metadata": {},
   "source": [
    "### Complex if Statement\n",
    "Below is a more complex if statement builds from the last example. It introduces the **elif** line. Whilst exploring the above example, you may realise if you enter 5 as the value of a, it says it's smaller as 5 is not bigger than 5. But we can add an elif statement to add another option - a to be equal to 5."
   ]
  },
  {
   "cell_type": "code",
   "execution_count": 3,
   "id": "50d82c13-cc55-477b-acc8-accf96d00b23",
   "metadata": {},
   "outputs": [
    {
     "name": "stdout",
     "output_type": "stream",
     "text": [
      "a is larger than 5\n"
     ]
    }
   ],
   "source": [
    "a = 9\n",
    "if a > 5:\n",
    "    print(\"a is larger than 5\")\n",
    "elif a == 5:\n",
    "    print(\"a is equal to 5\")\n",
    "else:\n",
    "    print(\"a is smaller than 5\")"
   ]
  },
  {
   "cell_type": "markdown",
   "id": "6cd15e47-0a80-4b2e-be55-ce00816e883a",
   "metadata": {},
   "source": [
    "**Try it Yourself:** try changing the value of a again and see how the new option changes things."
   ]
  },
  {
   "cell_type": "markdown",
   "id": "850f3e71-0a51-4585-be03-9636c1c81504",
   "metadata": {},
   "source": [
    "### A Common Error with if Statements\n",
    "A common error with if statements, loops and functions, is the improper use of indentation. Other programming languages aren't as strict, but in Python, indentation must be in place and consistent. The easiest way to do this is using the TAB button on your keyboard. Jupyter also gives a helping hand and automatically indents for you when it thinks there should be an indent."
   ]
  },
  {
   "cell_type": "code",
   "execution_count": 4,
   "id": "b6ce81d8-2255-4118-870b-cf70c5d02a07",
   "metadata": {},
   "outputs": [
    {
     "ename": "IndentationError",
     "evalue": "expected an indented block (2148114298.py, line 3)",
     "output_type": "error",
     "traceback": [
      "\u001b[0;36m  File \u001b[0;32m\"/tmp/ipykernel_210/2148114298.py\"\u001b[0;36m, line \u001b[0;32m3\u001b[0m\n\u001b[0;31m    print(\"b is between 50 and 100\") #not idented at all\u001b[0m\n\u001b[0m    ^\u001b[0m\n\u001b[0;31mIndentationError\u001b[0m\u001b[0;31m:\u001b[0m expected an indented block\n"
     ]
    }
   ],
   "source": [
    "b = 56\n",
    "if b > 50 and b < 100:\n",
    "print(\"b is between 50 and 100\") #not idented at all\n",
    "elif b == 50:\n",
    "  print(\"b is equal to 50\") #not a full TAB button\n",
    "elif b > 100:\n",
    "    print(\"b is smaller than 100\") #a TAB button\n",
    "else:\n",
    "      print(\"b is smaller than 50\") #more than a TAB button"
   ]
  },
  {
   "cell_type": "markdown",
   "id": "ce223846-f3cf-40a3-859d-c39f624782de",
   "metadata": {},
   "source": [
    "As you can see with the code, some indentation errors in Jupyter will be highlighted like the second one, where others won't. But with the help of the error message, it tells you that there is an error with indentation and what line it is on.\n",
    "\n",
    "Based on the error(s), try fixing the above code snippet."
   ]
  },
  {
   "cell_type": "markdown",
   "id": "7a42bc7a-7b87-4631-9b2c-a1b0a46974b5",
   "metadata": {},
   "source": [
    "## Try it Out Yourself\n",
    "\n",
    "Now that you have gone through the notebook, try editing some of the code snippets above, adding more operators, and making the if statements more complex.\n",
    "\n",
    "Below is an empty code snippet for you to try out what has been covered in this notebook. You can run, stop and restart the code snippet as many times as you want by using the icons at the top of this notebook."
   ]
  },
  {
   "cell_type": "code",
   "execution_count": 5,
   "id": "edd7f632-6538-418c-a7a5-c9d4a4988877",
   "metadata": {},
   "outputs": [],
   "source": [
    "#Enter your own code here\n",
    "\n",
    "\n",
    "\n",
    "\n",
    "\n"
   ]
  }
 ],
 "metadata": {
  "kernelspec": {
   "display_name": "Python 3 (ipykernel)",
   "language": "python",
   "name": "python3"
  },
  "language_info": {
   "codemirror_mode": {
    "name": "ipython",
    "version": 3
   },
   "file_extension": ".py",
   "mimetype": "text/x-python",
   "name": "python",
   "nbconvert_exporter": "python",
   "pygments_lexer": "ipython3",
   "version": "3.8.10"
  }
 },
 "nbformat": 4,
 "nbformat_minor": 5
}
