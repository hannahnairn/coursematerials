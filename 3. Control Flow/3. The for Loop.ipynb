{
 "cells": [
  {
   "cell_type": "markdown",
   "id": "e6dbc97e-0658-47ed-aedc-f0c80e131187",
   "metadata": {},
   "source": [
    "# The for Loop"
   ]
  },
  {
   "cell_type": "markdown",
   "id": "218bb5b2-18c5-49bd-ad9f-e64ce3af99c6",
   "metadata": {},
   "source": [
    "Python has two loop statements. This notebook will cover the second loop statement  - for - in Python, and you'll be left with an understanding of how to use the for loop."
   ]
  },
  {
   "cell_type": "markdown",
   "id": "20f61a68-95a8-40c7-9eeb-0406a3896018",
   "metadata": {},
   "source": [
    "## What is a for Loop\n",
    "A for loop is the second type of loop in Python, where they are a definitive set of times you, the programmer, wants the section of code to run."
   ]
  },
  {
   "cell_type": "code",
   "execution_count": null,
   "id": "29197fc2-f0f4-4882-be47-737b0219fa83",
   "metadata": {},
   "outputs": [],
   "source": [
    "for #a set amount of times :\n",
    "    #do something"
   ]
  },
  {
   "cell_type": "markdown",
   "id": "abccadfc-ae7b-433e-808d-9f156fd22510",
   "metadata": {},
   "source": [
    "## Examples\n",
    "### Printing every letter of a word\n",
    "The below example shows the use of a for loop to loop through a word and display each letter in it."
   ]
  },
  {
   "cell_type": "code",
   "execution_count": 1,
   "id": "f3c212ee-02ff-4f21-8164-8abe9ea7fc2e",
   "metadata": {},
   "outputs": [
    {
     "name": "stdout",
     "output_type": "stream",
     "text": [
      "c\n",
      "o\n",
      "m\n",
      "p\n",
      "u\n",
      "t\n",
      "i\n",
      "n\n",
      "g\n"
     ]
    }
   ],
   "source": [
    "for i in \"computing\":\n",
    "    print(i)"
   ]
  },
  {
   "cell_type": "markdown",
   "id": "b35cae65-2f5a-418c-b059-84fec9b209cc",
   "metadata": {},
   "source": [
    "### Printing each item in a list\n",
    "The below example will loop through a list of values and display each one."
   ]
  },
  {
   "cell_type": "code",
   "execution_count": 2,
   "id": "50ecfe9d-abc5-46b0-8324-fdff7e1ce809",
   "metadata": {},
   "outputs": [
    {
     "name": "stdout",
     "output_type": "stream",
     "text": [
      "McLaren\n",
      "Ferrari\n",
      "Mercedes\n"
     ]
    }
   ],
   "source": [
    "cars = [\"McLaren\", \"Ferrari\", \"Mercedes\"]\n",
    "for i in cars:\n",
    "    print(i) "
   ]
  },
  {
   "cell_type": "markdown",
   "id": "6d91cc1e-a617-4008-8a83-089662a2dbe0",
   "metadata": {},
   "source": [
    "### Printing number in a range\n",
    "The example below shows how the for loop can loop using the range() built-in function. In this case, the range is the numbers between 2 (inclusive) and 7."
   ]
  },
  {
   "cell_type": "code",
   "execution_count": 3,
   "id": "bc75a297-a09e-4c62-a3b6-0c5aec7ff944",
   "metadata": {},
   "outputs": [
    {
     "name": "stdout",
     "output_type": "stream",
     "text": [
      "2\n",
      "3\n",
      "4\n",
      "5\n",
      "6\n"
     ]
    }
   ],
   "source": [
    "for i in range(2,7):\n",
    "    print(i)"
   ]
  },
  {
   "cell_type": "markdown",
   "id": "7229e77b-1f82-433a-a75a-843aa6be614c",
   "metadata": {},
   "source": [
    "## break and continue Statements\n",
    "Like the while loop, the for loop also can utilise the **break** and **continue** statements. They still do the same thing as when used in a while or if statements. \n",
    "\n",
    "Using the above printing number in a range example, the below snippets adapt this example to include break and continue statements."
   ]
  },
  {
   "cell_type": "code",
   "execution_count": 4,
   "id": "a433850c-2d3b-4c00-afb1-ef3458b10116",
   "metadata": {},
   "outputs": [
    {
     "name": "stdout",
     "output_type": "stream",
     "text": [
      "2\n",
      "3\n",
      "4\n"
     ]
    }
   ],
   "source": [
    "#break statement\n",
    "for i in range(2,7):\n",
    "    if i == 5:\n",
    "        break\n",
    "    print(i)"
   ]
  },
  {
   "cell_type": "code",
   "execution_count": 5,
   "id": "34b6ceda-a0e3-4b6a-aaf8-9cc1400914ca",
   "metadata": {},
   "outputs": [
    {
     "name": "stdout",
     "output_type": "stream",
     "text": [
      "2\n",
      "3\n",
      "4\n",
      "6\n"
     ]
    }
   ],
   "source": [
    "#continue statement\n",
    "for i in range(2,7):\n",
    "    if i == 5:\n",
    "        continue\n",
    "    print(i)"
   ]
  },
  {
   "cell_type": "markdown",
   "id": "00bf9350-f8e6-4bd7-a1b5-61c14523e61b",
   "metadata": {},
   "source": [
    "## The else Statement\n",
    "The else statement is also the same as in the while loop. It provides an option once the loop has ended."
   ]
  },
  {
   "cell_type": "code",
   "execution_count": 6,
   "id": "59cc9413-f830-4dbf-a367-5328cb7ecacd",
   "metadata": {},
   "outputs": [
    {
     "name": "stdout",
     "output_type": "stream",
     "text": [
      "0\n",
      "1\n",
      "2\n",
      "3\n",
      "4\n",
      "Loop has finished\n"
     ]
    }
   ],
   "source": [
    "for i in range(5):\n",
    "    print(i)\n",
    "else:\n",
    "    print(\"Loop has finished\")"
   ]
  },
  {
   "cell_type": "markdown",
   "id": "87bb3851-0041-421f-a551-7d01058be384",
   "metadata": {},
   "source": [
    "**Something to Remember:** Python starts its counting at 0, so if you write the range to be 5, as in the above example, it will start at 0 and end at 4. This is important if you want to do something with, say, value 2 in the future as it wouldn't be saved in place 2 it will be referenced and saved as 1."
   ]
  },
  {
   "cell_type": "markdown",
   "id": "0e38476a-ae0b-4a57-93a9-9b5fa79a768e",
   "metadata": {},
   "source": [
    "## Try it Out Yourself\n",
    "\n",
    "Now that you have gone through the notebook, try editing some of the code snippets above, adding if statements into the for loops, and making them useful for loops in context.\n",
    "\n",
    "Below is an empty code snippet for you to try out what has been covered in this notebook. You can run, stop and restart the code snippet as many times as you want by using the icons at the top of this notebook."
   ]
  },
  {
   "cell_type": "code",
   "execution_count": 7,
   "id": "7d3e6edd-4b9c-4a89-882a-60b4a6615cc7",
   "metadata": {},
   "outputs": [],
   "source": [
    "#Enter your own code here\n",
    "\n",
    "\n",
    "\n",
    "\n",
    "\n"
   ]
  }
 ],
 "metadata": {
  "kernelspec": {
   "display_name": "Python 3 (ipykernel)",
   "language": "python",
   "name": "python3"
  },
  "language_info": {
   "codemirror_mode": {
    "name": "ipython",
    "version": 3
   },
   "file_extension": ".py",
   "mimetype": "text/x-python",
   "name": "python",
   "nbconvert_exporter": "python",
   "pygments_lexer": "ipython3",
   "version": "3.8.10"
  }
 },
 "nbformat": 4,
 "nbformat_minor": 5
}
