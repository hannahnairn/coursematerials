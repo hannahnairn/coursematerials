{
 "cells": [
  {
   "cell_type": "markdown",
   "id": "99d44c32-18b1-4a3a-89c1-ee897cdfbf1b",
   "metadata": {},
   "source": [
    "# Functions"
   ]
  },
  {
   "cell_type": "markdown",
   "id": "acf434ef-e1f5-451a-992f-3a11830a8f45",
   "metadata": {},
   "source": [
    "This notebook will cover the basics of creating your own functions in Python.\n",
    "\n",
    "## What is a Function?\n",
    "A function can either be built into the language like print() or input(). Or it can be a section of code you write yourself, and call it into a program, the same way you'd use a built-in one.\n",
    "\n",
    "A function is an independent block of code that only runs when you call it to like print(). You can call it and reuse the code as many times as you want to with different parameters. This notebook will show you some basic functions, so feel free to add extra elements you've learned throughout this course to make them more complex.\n",
    "\n",
    "## How to write your own function\n",
    "To start writing a function - you must declare it using **def** followed by the name you want to call the function with.\n",
    "After the name, a function will always have brackets; if they are empty, there are no parameters to be called with the function."
   ]
  },
  {
   "cell_type": "code",
   "execution_count": 1,
   "id": "e0fd8ded-a67d-4467-8455-c682f4236c03",
   "metadata": {},
   "outputs": [],
   "source": [
    "def aFunction():\n",
    "    print(\"This is a simple function\")"
   ]
  },
  {
   "cell_type": "markdown",
   "id": "59c5c3ab-4b67-405c-a66d-90e690a93500",
   "metadata": {},
   "source": [
    "Now, if you run the code snippet above, there is no output because we haven't called the function; remember, a function won't run unless it's called. So below, we will call the function."
   ]
  },
  {
   "cell_type": "code",
   "execution_count": 2,
   "id": "b74c2262-83b4-4173-8d48-3659d0b34400",
   "metadata": {},
   "outputs": [
    {
     "name": "stdout",
     "output_type": "stream",
     "text": [
      "This is a simple function\n",
      "This is a simple function\n"
     ]
    }
   ],
   "source": [
    "#just call a function\n",
    "aFunction()\n",
    "\n",
    "#There maybe times where you want the output to be saved to a variable\n",
    "#This is what that would look like\n",
    "x = aFunction()"
   ]
  },
  {
   "cell_type": "markdown",
   "id": "3b210ad1-50d6-4207-a8b0-df14bb75db73",
   "metadata": {},
   "source": [
    "As you can see, the function's output is displayed to the user."
   ]
  },
  {
   "cell_type": "markdown",
   "id": "0dc0c61b-6ffd-493e-a2c8-4b80cf52cd18",
   "metadata": {},
   "source": [
    "### A Function with Parameters\n",
    "Now we'll move on to a function with parameters. For this, we'll keep it simple and add together two integer values.\n",
    "With parameters, you want to make the variable names of them non specify - so you can reuse the function (which will be shown later). For this function, suitable parameter names could be x and y or number1 and number2. Non-suitable variables names would be hoursWorkedTues and hoursWorkedWed - as they are too specific to one scenario."
   ]
  },
  {
   "cell_type": "code",
   "execution_count": 3,
   "id": "5312156a-a0d8-499d-9c47-161a3af333d8",
   "metadata": {},
   "outputs": [
    {
     "name": "stdout",
     "output_type": "stream",
     "text": [
      "13\n",
      "19\n",
      "17\n"
     ]
    },
    {
     "ename": "TypeError",
     "evalue": "addingFunction() takes 2 positional arguments but 3 were given",
     "output_type": "error",
     "traceback": [
      "\u001b[0;31m---------------------------------------------------------------------------\u001b[0m",
      "\u001b[0;31mTypeError\u001b[0m                                 Traceback (most recent call last)",
      "\u001b[0;32m/tmp/ipykernel_178/522197891.py\u001b[0m in \u001b[0;36m<module>\u001b[0;34m\u001b[0m\n\u001b[1;32m     21\u001b[0m \u001b[0mhoursWorkedMon\u001b[0m \u001b[0;34m=\u001b[0m \u001b[0;36m7.5\u001b[0m\u001b[0;34m\u001b[0m\u001b[0;34m\u001b[0m\u001b[0m\n\u001b[1;32m     22\u001b[0m \u001b[0;31m#There is too many parameters - the parameters called must equal the amount written in the function\u001b[0m\u001b[0;34m\u001b[0m\u001b[0;34m\u001b[0m\u001b[0;34m\u001b[0m\u001b[0m\n\u001b[0;32m---> 23\u001b[0;31m \u001b[0mtotalHoursWorked\u001b[0m \u001b[0;34m=\u001b[0m \u001b[0maddingFunction\u001b[0m\u001b[0;34m(\u001b[0m\u001b[0mhoursWorkedMon\u001b[0m\u001b[0;34m,\u001b[0m \u001b[0mhoursWorkedTues\u001b[0m\u001b[0;34m,\u001b[0m \u001b[0mhoursWorkedWed\u001b[0m\u001b[0;34m)\u001b[0m\u001b[0;34m\u001b[0m\u001b[0;34m\u001b[0m\u001b[0m\n\u001b[0m",
      "\u001b[0;31mTypeError\u001b[0m: addingFunction() takes 2 positional arguments but 3 were given"
     ]
    }
   ],
   "source": [
    "def addingFunction(x,y):\n",
    "    output = x + y\n",
    "    print(output)\n",
    "\n",
    "#Remember anything un-identated is not in the function\n",
    "\n",
    "#Calling the function\n",
    "addingFunction(5,8)\n",
    "\n",
    "#Reusing the Function in different ways\n",
    "a = 9 \n",
    "b = 10\n",
    "addingFunction(a,b)\n",
    "\n",
    "#Can use specific variable names here in the main program instead of the function\n",
    "hoursWorkedTues = 10\n",
    "hoursWorkedWed = 7\n",
    "totalHoursWorked = addingFunction(hoursWorkedTues, hoursWorkedWed)\n",
    "\n",
    "#A broken example\n",
    "hoursWorkedMon = 7.5\n",
    "#There is too many parameters - the parameters called must equal the amount written in the function\n",
    "totalHoursWorked = addingFunction(hoursWorkedMon, hoursWorkedTues, hoursWorkedWed)"
   ]
  },
  {
   "cell_type": "markdown",
   "id": "0474c319-9e2c-4789-ae67-398ff1f26bc1",
   "metadata": {},
   "source": [
    "As you can see, the function was used in various contexts and could be reused for all of them, as it was a general function.\n",
    "\n",
    "The last example throws an error because there are too many parameters in the call line. The number of parameters in the call and the function written must match to be successfully called and run.\n",
    "\n",
    "And that's the basics of creating a function. A function can have any amount of code in it and can help remove duplicated code and save you time from having to rewrite the same code repeatedly. \n",
    "\n",
    "A function can hold if statements, while and for loops, anything you want!\n",
    "\n",
    "### More Complex Example\n",
    "\n",
    "Below is a more complex function. It's a function for a test scored to generate a pass or a fail. Using a function in this situation means you don't have to write out the code for each student, in each class, in each year.\n",
    "\n",
    "Look over the code and see how you could improve it could be the output, the display, the way the calculation works."
   ]
  },
  {
   "cell_type": "code",
   "execution_count": 5,
   "id": "3546137e-97b4-4230-aca5-6475bc563179",
   "metadata": {},
   "outputs": [
    {
     "name": "stdout",
     "output_type": "stream",
     "text": [
      "C\n",
      "B\n",
      "A\n"
     ]
    },
    {
     "name": "stdin",
     "output_type": "stream",
     "text": [
      "What was the student's score out of 100?  56\n"
     ]
    },
    {
     "name": "stdout",
     "output_type": "stream",
     "text": [
      "C\n"
     ]
    }
   ],
   "source": [
    "def testResult(score):\n",
    "    if score >= 45 and score < 50:\n",
    "        result = \"D\"\n",
    "    elif score >= 50 and score < 60:\n",
    "        result = \"C\"\n",
    "    elif  score >= 60 and score < 70:\n",
    "        result = \"B\"\n",
    "    elif score >= 70:\n",
    "        result = \"A\"\n",
    "    else:\n",
    "        result = \"Fail\"\n",
    "    #Display the result    \n",
    "    print(result)     \n",
    "\n",
    "#Main Program \n",
    "studentA = testResult(50)\n",
    "studentB = testResult(67)\n",
    "studentC = testResult(78)\n",
    "\n",
    "#Using an user inputted option\n",
    "studentDscore = int(input(\"What was the student's score out of 100? \"))\n",
    "studentD = testResult(studentDscore)"
   ]
  },
  {
   "cell_type": "markdown",
   "id": "1649b9ec-fa36-4e33-8ca0-f3b26b2219a0",
   "metadata": {},
   "source": [
    "## Try it Out Yourself\n",
    "\n",
    "Now that you have gone through the notebook, try editing some of the code snippets to see how the output or calculations change.\n",
    "\n",
    "Below is an empty code snippet for you to try out what has been covered in this notebook. You can run, stop and restart the code snippet as many times as you want by using the icons at the top of this notebook."
   ]
  },
  {
   "cell_type": "code",
   "execution_count": 6,
   "id": "93281328-53f6-4273-9a6e-7c2f6cc43443",
   "metadata": {},
   "outputs": [],
   "source": [
    "#Enter your own code here\n",
    "\n",
    "\n",
    "\n",
    "\n",
    "\n"
   ]
  }
 ],
 "metadata": {
  "kernelspec": {
   "display_name": "Python 3 (ipykernel)",
   "language": "python",
   "name": "python3"
  },
  "language_info": {
   "codemirror_mode": {
    "name": "ipython",
    "version": 3
   },
   "file_extension": ".py",
   "mimetype": "text/x-python",
   "name": "python",
   "nbconvert_exporter": "python",
   "pygments_lexer": "ipython3",
   "version": "3.8.10"
  }
 },
 "nbformat": 4,
 "nbformat_minor": 5
}
