{
 "cells": [
  {
   "cell_type": "markdown",
   "id": "bf20d204-19f5-485a-812e-e34c7af7dcc7",
   "metadata": {},
   "source": [
    "# Variables"
   ]
  },
  {
   "cell_type": "markdown",
   "id": "68b164d0-5633-4698-ab77-e0f8f6a9abc9",
   "metadata": {},
   "source": [
    "This notebook will cover the basics of variable configuration and you'll be left with a understand of how variables work."
   ]
  },
  {
   "cell_type": "markdown",
   "id": "1f49e437-2008-47ad-818b-43c2b6d8bbe7",
   "metadata": {},
   "source": [
    "## Variable Assignment"
   ]
  },
  {
   "cell_type": "markdown",
   "id": "38d9932e-3d43-4603-80df-8000188dbe85",
   "metadata": {},
   "source": [
    "A variable is assigned by writting writing the name you want to call the variable and then a equals sign =, followed by the value you want to give the variable. \n",
    "\n",
    "Unlike other programming languages you don't need to typr var before assigning a variable.\n",
    "\n",
    "Below is an example of assigning the variable a to the value 23.5"
   ]
  },
  {
   "cell_type": "code",
   "execution_count": 1,
   "id": "0e4c6d4e-a695-432c-ac5c-2e5031a94ad5",
   "metadata": {},
   "outputs": [],
   "source": [
    "a = 23.5"
   ]
  },
  {
   "cell_type": "markdown",
   "id": "585830da-1ced-43ab-9e79-218101421769",
   "metadata": {},
   "source": [
    "By typing the variable name and running the code snippet you can check that the value has been assigned correctly"
   ]
  },
  {
   "cell_type": "code",
   "execution_count": 3,
   "id": "fc44b4b7-33da-4784-bbdb-94ebc628e228",
   "metadata": {},
   "outputs": [
    {
     "data": {
      "text/plain": [
       "23.5"
      ]
     },
     "execution_count": 3,
     "metadata": {},
     "output_type": "execute_result"
    }
   ],
   "source": [
    "a"
   ]
  },
  {
   "cell_type": "markdown",
   "id": "fea9d684-a8dc-4a36-aa54-9e04736fdd3c",
   "metadata": {},
   "source": [
    "### Mulitple Variable Assignment "
   ]
  },
  {
   "cell_type": "markdown",
   "id": "2840e8ad-92a9-4c0a-a690-6745bd121af2",
   "metadata": {},
   "source": [
    "Say you need to assign a series of variables to the same value. You can do that in Python."
   ]
  },
  {
   "cell_type": "code",
   "execution_count": 5,
   "id": "53f62841-6476-4554-8759-37dd6066882b",
   "metadata": {},
   "outputs": [],
   "source": [
    "a = f = x = 456"
   ]
  },
  {
   "cell_type": "markdown",
   "id": "96c8aaf7-e6e0-4ec0-895b-be34a5a33850",
   "metadata": {},
   "source": [
    "## Variable Data Types"
   ]
  },
  {
   "cell_type": "markdown",
   "id": "47d3a9e9-69ee-4039-8458-7732c99c63cb",
   "metadata": {},
   "source": [
    "As mentioned before you don't need to declare the variable type before assigning the variable.\n",
    "\n",
    "Variables can change type throughout a program by re-assigning although this is not recommended practice."
   ]
  },
  {
   "cell_type": "code",
   "execution_count": 1,
   "id": "ccc1d63e-66eb-43a3-9435-a8854b862ffb",
   "metadata": {},
   "outputs": [
    {
     "name": "stdout",
     "output_type": "stream",
     "text": [
      "23.5\n",
      "I've changed to a string\n"
     ]
    }
   ],
   "source": [
    "#assigning variable a to value 23.5\n",
    "a = 23.5\n",
    "print(a)\n",
    "\n",
    "#reassigning variable a to string value \"I've changed to a string\"\n",
    "a = \"I've changed to a string\"\n",
    "print(a)"
   ]
  },
  {
   "cell_type": "markdown",
   "id": "4c4fccb9-59c6-450a-b9a4-cb872dce920b",
   "metadata": {},
   "source": [
    "To find out the type of a variable you can use the type() function as shown below."
   ]
  },
  {
   "cell_type": "code",
   "execution_count": 4,
   "id": "c77b0166-5178-4a7f-9ba4-394eda9c51ad",
   "metadata": {},
   "outputs": [
    {
     "name": "stdout",
     "output_type": "stream",
     "text": [
      "The type is :  <class 'float'>\n"
     ]
    }
   ],
   "source": [
    "#assign variable a to value 23.5\n",
    "a = 23.5\n",
    "#display the variable type of a \n",
    "print(\"The type is : \", type(a))\n"
   ]
  },
  {
   "cell_type": "markdown",
   "id": "25f67475-aa85-415e-800f-769f14f41376",
   "metadata": {},
   "source": [
    "We'll go into more detail about data types in Python in the next notebook."
   ]
  },
  {
   "cell_type": "markdown",
   "id": "4fc2320c-82e4-48b8-8f89-5741b8774d81",
   "metadata": {},
   "source": [
    "## Variable Names"
   ]
  },
  {
   "cell_type": "markdown",
   "id": "f234ef0b-6b17-4cc2-8fbd-bcc746d0d413",
   "metadata": {},
   "source": [
    "A variable can be named anything you want it to be, but best practice is to have meaningful varaible names. Having meaningful variable names makes it easier to understand what the code is doing, take the below example."
   ]
  },
  {
   "cell_type": "code",
   "execution_count": 5,
   "id": "9a94f17f-b7b9-4a29-9147-3165146df597",
   "metadata": {},
   "outputs": [],
   "source": [
    "x = \"Billy\"\n",
    "y = 27\n",
    "z = \"Enginner\""
   ]
  },
  {
   "cell_type": "markdown",
   "id": "533047a8-4729-4f4f-a2b8-d8b900e06bb9",
   "metadata": {},
   "source": [
    "It is very difficult to understand what these variables are for. They are out of context and don't mean anything. If we implemented meaningful variable names the example might look like this."
   ]
  },
  {
   "cell_type": "code",
   "execution_count": 6,
   "id": "4702af34-80ae-45d3-93ad-13822c170f7f",
   "metadata": {},
   "outputs": [],
   "source": [
    "name = \"Billy\"\n",
    "age = 27\n",
    "jobRole = \"Enginner\""
   ]
  },
  {
   "cell_type": "markdown",
   "id": "3faa675a-d136-4da3-b888-39850759bbf0",
   "metadata": {},
   "source": [
    "Now we can understand the data being stored and it will be easier to use these variables throughout the program.\n",
    "\n",
    "You may have also noticed how the jobRole variable is written. As variables can only be one word long, if a variable needs more detail than one word, it is best practice to write the second word with a captial letter, so the variable name is easier to read. "
   ]
  },
  {
   "cell_type": "markdown",
   "id": "0082ca07-28e3-4b33-8331-b895c150050e",
   "metadata": {},
   "source": [
    "## Try It Out Yourself"
   ]
  },
  {
   "cell_type": "markdown",
   "id": "4f0b4e93-756f-4581-8cbc-b071a2ee89dd",
   "metadata": {},
   "source": [
    "Below there is a empty code snippet for you to try out what has been covered in this notebook. You can run, stop and restart the code snippet as many times as you want by using the icons at the top of this notebook."
   ]
  },
  {
   "cell_type": "code",
   "execution_count": 2,
   "id": "fc603736-ed6f-49f6-8bf1-8dbace08f39a",
   "metadata": {},
   "outputs": [],
   "source": [
    "#Enter your own code here\n",
    "\n",
    "\n"
   ]
  }
 ],
 "metadata": {
  "kernelspec": {
   "display_name": "Python 3 (ipykernel)",
   "language": "python",
   "name": "python3"
  },
  "language_info": {
   "codemirror_mode": {
    "name": "ipython",
    "version": 3
   },
   "file_extension": ".py",
   "mimetype": "text/x-python",
   "name": "python",
   "nbconvert_exporter": "python",
   "pygments_lexer": "ipython3",
   "version": "3.8.10"
  }
 },
 "nbformat": 4,
 "nbformat_minor": 5
}
