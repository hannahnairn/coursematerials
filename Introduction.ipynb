{
 "cells": [
  {
   "cell_type": "markdown",
   "id": "d6f96ae9-9b3d-464a-b336-1b76f98f63ad",
   "metadata": {},
   "source": [
    "# Welcome to Introductory Python"
   ]
  },
  {
   "cell_type": "markdown",
   "id": "6cc58d05-cd8d-48f8-a1c5-d979cc56a588",
   "metadata": {},
   "source": [
    "In the course you will learn the syntax, structure and common constructs of Python 3. This course will consist of a series of notebooks which will contain learning material and code snippets where you can edit and run the code.\n",
    "\n",
    "It is best to follow the folder structure, and complete the notebooks in order as the knowledge will bulid upon the last one."
   ]
  },
  {
   "cell_type": "markdown",
   "id": "a477b341-64b6-4a3e-af26-97a0306c61ac",
   "metadata": {},
   "source": [
    "## Structure of the Course"
   ]
  },
  {
   "cell_type": "markdown",
   "id": "4f204894-5c15-4574-bb6f-61d02594909c",
   "metadata": {
    "tags": []
   },
   "source": [
    "### 1. Introduction"
   ]
  },
  {
   "cell_type": "markdown",
   "id": "66959c30-ec75-4d6e-98d4-0a963d9bdbe7",
   "metadata": {},
   "source": [
    "This section will provide you with an introduction to course and what is required as a research participant."
   ]
  },
  {
   "cell_type": "markdown",
   "id": "292572cd-53e5-4e45-b21a-d11cfbdd753a",
   "metadata": {},
   "source": [
    "### 2. Variables, Data Types and Operators"
   ]
  },
  {
   "cell_type": "markdown",
   "id": "98933ed0-f369-4bc7-82e2-b167cbadce4e",
   "metadata": {},
   "source": [
    "This section will teach you the basics of Python programming syntax, and how to represent data correctly."
   ]
  },
  {
   "cell_type": "markdown",
   "id": "65e1a5fa-f91e-4896-83f3-e8bb94f9b772",
   "metadata": {},
   "source": [
    "### 3. Control Flow"
   ]
  },
  {
   "cell_type": "markdown",
   "id": "12aece3d-559a-4885-ba01-cdda7cddcadb",
   "metadata": {},
   "source": [
    "This section will teach you all about conditional statements."
   ]
  },
  {
   "cell_type": "markdown",
   "id": "2102c880-12bf-4570-a42f-b6243cecb5b1",
   "metadata": {},
   "source": [
    "### 4. Functions"
   ]
  },
  {
   "cell_type": "markdown",
   "id": "f5d00c3a-8d6d-4f1d-ba38-8ce1a88f780d",
   "metadata": {},
   "source": [
    "This section will teach you how to create your own functions in Python."
   ]
  },
  {
   "cell_type": "markdown",
   "id": "e6e88e51-4ab8-42d2-bf82-00724646432b",
   "metadata": {},
   "source": [
    "### 5. A Final Project"
   ]
  },
  {
   "cell_type": "markdown",
   "id": "eb0dce72-5890-41c9-a85a-4cf9ccc745be",
   "metadata": {},
   "source": [
    "Bulid a Calculator program using the skills you have learned"
   ]
  },
  {
   "cell_type": "markdown",
   "id": "8641382b-16f3-4c58-a940-996f0582075a",
   "metadata": {},
   "source": [
    "## How to use Code Snippets"
   ]
  },
  {
   "cell_type": "markdown",
   "id": "ced14345-d00a-4741-a9f1-eb1eb2ae239d",
   "metadata": {},
   "source": [
    "Below is an example of a code snippet, we will be using them A LOT in this course.\n",
    "As you can see the code is written in the greyed out box and the output is displayed below it."
   ]
  },
  {
   "cell_type": "code",
   "execution_count": 3,
   "id": "d758765c-abe0-450d-a8fa-73acceaf8abc",
   "metadata": {},
   "outputs": [
    {
     "name": "stdout",
     "output_type": "stream",
     "text": [
      "Hello, Welcome to Introductory Python\n"
     ]
    }
   ],
   "source": [
    "print(\"Hello, Welcome to Introductory Python\")"
   ]
  },
  {
   "cell_type": "markdown",
   "id": "f10ca24d-57f7-4fb9-bc23-f6d0c5054ce4",
   "metadata": {},
   "source": [
    "Don't worry if you don't understand how the code is working, we'll go into more detail later on in the course.\n",
    "For now try changing the text inside the \" \" to say your name and then hitting the run button at the top of the page, (it's the play button icon) and see what changes."
   ]
  },
  {
   "cell_type": "markdown",
   "id": "d4fc46a9-e4b6-47ff-b218-cf6dae1da04d",
   "metadata": {},
   "source": [
    "Another thing you'll see a lot of throughout this course is code comments. Comments allow you to describe what to code you have written is doing. In Python, a comment line starts with a # symbol. Comments are also always in a unique colour to your code so you can easily see where your comments and running code are.\n",
    "\n",
    "Below is an example use of comments, for the code above"
   ]
  },
  {
   "cell_type": "code",
   "execution_count": 7,
   "id": "600ef081-bb54-4909-8c4a-0a8650ee02dc",
   "metadata": {},
   "outputs": [
    {
     "name": "stdout",
     "output_type": "stream",
     "text": [
      "Hello, Welcome to Introductory Python\n"
     ]
    }
   ],
   "source": [
    "#Display 'Hello, Welcome to Introductory Python' to the user\n",
    "print(\"Hello, Welcome to Introductory Python\") #A comment could also be put here\n",
    "\n",
    "#A comment can also be used to stop a line of code from running:-\n",
    "#print(\"Hello, Welcome to Introductory Python\")"
   ]
  },
  {
   "cell_type": "markdown",
   "id": "8fefbcb7-7e04-454b-a81e-e5e8a3fc1628",
   "metadata": {},
   "source": [
    "As you can see the comments aren't in the output. Only people looking at the code itself can see the comments."
   ]
  },
  {
   "cell_type": "markdown",
   "id": "1e377d22-5980-49b0-a539-13842f7217a3",
   "metadata": {},
   "source": [
    "## Python Syntax"
   ]
  },
  {
   "cell_type": "markdown",
   "id": "3e1b9f4c-b040-4a1c-b841-99751e30cfe1",
   "metadata": {},
   "source": [
    "Python has a strict layout format. You have to include indentations, where necessary, or the code will not run. These can be added by hitting the TAB button on your keyboard. We will go into more detail about where you have to indent in your Python later, but a good rule of thumb is anytime after a : symbol the next line should be indented. \n",
    "\n",
    "Python 3 and these notebooks will normally indent for you when you hit enter after a : symbol.\n",
    "\n",
    "Below is two examples of indentation used correctly and incorrectly."
   ]
  },
  {
   "cell_type": "code",
   "execution_count": 5,
   "id": "afa41a0d-359d-447d-b4db-348d46e268cf",
   "metadata": {},
   "outputs": [
    {
     "name": "stdout",
     "output_type": "stream",
     "text": [
      "20 is greater than 15\n"
     ]
    }
   ],
   "source": [
    "if 20 > 15:\n",
    "    print(\"20 is greater than 15\")"
   ]
  },
  {
   "cell_type": "code",
   "execution_count": 6,
   "id": "e1e614b0-6608-4517-a247-8d7c83c08e53",
   "metadata": {},
   "outputs": [
    {
     "ename": "IndentationError",
     "evalue": "expected an indented block (3906835355.py, line 2)",
     "output_type": "error",
     "traceback": [
      "\u001b[0;36m  File \u001b[0;32m\"/tmp/ipykernel_78/3906835355.py\"\u001b[0;36m, line \u001b[0;32m2\u001b[0m\n\u001b[0;31m    print(\"32 is less than 50\")\u001b[0m\n\u001b[0m    ^\u001b[0m\n\u001b[0;31mIndentationError\u001b[0m\u001b[0;31m:\u001b[0m expected an indented block\n"
     ]
    }
   ],
   "source": [
    "if 32 < 50:\n",
    "print(\"32 is less than 50\")"
   ]
  },
  {
   "cell_type": "markdown",
   "id": "1dae9508-fa1c-4a09-88ae-7f72eab4c95c",
   "metadata": {},
   "source": [
    "As you can see when a error occurs, where the output should be displayed an error message appears. These messages should tell you were and what the problem with your code was. \n",
    "\n",
    "Try and change the incorrect code to successfully output the message. "
   ]
  }
 ],
 "metadata": {
  "kernelspec": {
   "display_name": "Python 3 (ipykernel)",
   "language": "python",
   "name": "python3"
  },
  "language_info": {
   "codemirror_mode": {
    "name": "ipython",
    "version": 3
   },
   "file_extension": ".py",
   "mimetype": "text/x-python",
   "name": "python",
   "nbconvert_exporter": "python",
   "pygments_lexer": "ipython3",
   "version": "3.8.10"
  }
 },
 "nbformat": 4,
 "nbformat_minor": 5
}
