{
 "cells": [
  {
   "cell_type": "markdown",
   "id": "567b438e-98d6-437d-a508-9a143592edbf",
   "metadata": {},
   "source": [
    "# Calculator Project"
   ]
  },
  {
   "cell_type": "markdown",
   "id": "22a09def-d0f8-4729-96ad-1bdbd0757bd9",
   "metadata": {},
   "source": [
    "Now that you have learned the basics of python programming, now is time for you to use those skills to create your very own calculator program!\n",
    "\n",
    "Using the skills covered in this course, use the code snippet box below to code your calculator program.\n",
    "\n",
    "To get you started, here is a list of some things you'll need to include:\n",
    "\n",
    " - you'll need the user to enter the numbers for the calculation\n",
    " - the user will either need to enter to choose the mathematical operator for the calculation, e.g. +, -, *, /\n",
    " - you'll need to perform the wanted calculation \n",
    " - and lastly, you'll need to display the result of the calculation"
   ]
  },
  {
   "cell_type": "code",
   "execution_count": 1,
   "id": "6809ec10-ade5-457b-a410-7942a26c7456",
   "metadata": {},
   "outputs": [],
   "source": [
    "#Enter your calculator app code here...\n",
    "\n",
    "\n",
    "\n",
    "\n",
    "\n",
    "\n",
    "\n",
    "\n",
    "\n",
    "\n",
    "\n",
    "\n",
    "\n",
    "\n",
    "\n",
    "\n"
   ]
  }
 ],
 "metadata": {
  "kernelspec": {
   "display_name": "Python 3 (ipykernel)",
   "language": "python",
   "name": "python3"
  },
  "language_info": {
   "codemirror_mode": {
    "name": "ipython",
    "version": 3
   },
   "file_extension": ".py",
   "mimetype": "text/x-python",
   "name": "python",
   "nbconvert_exporter": "python",
   "pygments_lexer": "ipython3",
   "version": "3.8.10"
  }
 },
 "nbformat": 4,
 "nbformat_minor": 5
}
