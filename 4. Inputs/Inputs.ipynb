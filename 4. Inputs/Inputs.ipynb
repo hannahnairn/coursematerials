{
 "cells": [
  {
   "cell_type": "markdown",
   "id": "32f587e4-4e47-4c0c-ab28-00f16c50b75c",
   "metadata": {},
   "source": [
    "# Inputs\n",
    "\n",
    "This notebook will cover the basics of inputs in Python, and you'll be left with an understanding of how inputs are used in Python."
   ]
  },
  {
   "cell_type": "markdown",
   "id": "0590efc7-23c8-4860-81be-552b2c36573e",
   "metadata": {},
   "source": [
    "## What is an Input in Python\n",
    "\n",
    "An input is a way of letting the user enter information or data into your program. \n",
    "This is easy in Python, as Python has a built-in function called input(). We'll go over the use of this function and some common errors and fixes that may occur when using it."
   ]
  },
  {
   "cell_type": "markdown",
   "id": "f8144bbe-2bbe-403a-a0c1-322ff2eef86b",
   "metadata": {},
   "source": [
    "## The Basic Input\n",
    "\n",
    "The code snippet below shows the basic use of the input function. The code asks the user to enter a name."
   ]
  },
  {
   "cell_type": "code",
   "execution_count": 2,
   "id": "410ef6c6-a952-4b41-81fc-af14fb231ecf",
   "metadata": {},
   "outputs": [
    {
     "name": "stdin",
     "output_type": "stream",
     "text": [
      "What is your name?  Dylan\n"
     ]
    }
   ],
   "source": [
    "name = input(\"What is your name? \");"
   ]
  },
  {
   "cell_type": "markdown",
   "id": "6e462cc7-adeb-49b7-988a-539def21ffb8",
   "metadata": {},
   "source": [
    "Now, if you rerun the code snippet, you'll see the box that appears that allows you to enter a name. After this, by hitting enter, the input provided will be saved to the variable name. This variable can now be used exactly the same way as any other variable."
   ]
  },
  {
   "cell_type": "markdown",
   "id": "8e0dc042-cf9e-48df-bd3d-f5c58d9db4eb",
   "metadata": {},
   "source": [
    "## Issues with the Input Function\n",
    "\n",
    "To start with, we will expand our code above to also ask the user for their age."
   ]
  },
  {
   "cell_type": "code",
   "execution_count": 3,
   "id": "73194234-e8dc-42f9-b1e2-a60362ed4e5a",
   "metadata": {},
   "outputs": [
    {
     "name": "stdin",
     "output_type": "stream",
     "text": [
      "What is your name?  Dylan\n",
      "What is your age?  25\n"
     ]
    }
   ],
   "source": [
    "name = input(\"What is your name? \");\n",
    "age = input(\"What is your age? \");"
   ]
  },
  {
   "cell_type": "markdown",
   "id": "0f185d7e-8c90-4143-b38a-a7e99d88dca9",
   "metadata": {},
   "source": [
    "The code accepted both name and age. Now let's try and do something with our variables. \n",
    "\n",
    "#### 1. Display Both Variabless"
   ]
  },
  {
   "cell_type": "code",
   "execution_count": 4,
   "id": "57e0552b-298a-4775-954f-e4bb9b5c0893",
   "metadata": {},
   "outputs": [
    {
     "name": "stdout",
     "output_type": "stream",
     "text": [
      "Dylan\n",
      "25\n"
     ]
    }
   ],
   "source": [
    "print(name)\n",
    "print(age)"
   ]
  },
  {
   "cell_type": "markdown",
   "id": "74981314-ded7-45a7-855e-a2e0ad0a14e5",
   "metadata": {},
   "source": [
    "The variables are set correctly to the value we wanted. Great!"
   ]
  },
  {
   "cell_type": "markdown",
   "id": "a6ab5d35-7144-4220-a81f-b9c8e71e52a3",
   "metadata": {},
   "source": [
    "#### 2. Find out how old the person will be in 5 years"
   ]
  },
  {
   "cell_type": "code",
   "execution_count": 5,
   "id": "0f961dae-a77c-4f15-b628-33d16a61b4de",
   "metadata": {},
   "outputs": [
    {
     "ename": "TypeError",
     "evalue": "can only concatenate str (not \"int\") to str",
     "output_type": "error",
     "traceback": [
      "\u001b[0;31m---------------------------------------------------------------------------\u001b[0m",
      "\u001b[0;31mTypeError\u001b[0m                                 Traceback (most recent call last)",
      "\u001b[0;32m/tmp/ipykernel_194/1728654228.py\u001b[0m in \u001b[0;36m<module>\u001b[0;34m\u001b[0m\n\u001b[0;32m----> 1\u001b[0;31m \u001b[0mfutureAge\u001b[0m \u001b[0;34m=\u001b[0m \u001b[0mage\u001b[0m \u001b[0;34m+\u001b[0m \u001b[0;36m5\u001b[0m\u001b[0;34m\u001b[0m\u001b[0;34m\u001b[0m\u001b[0m\n\u001b[0m\u001b[1;32m      2\u001b[0m \u001b[0mprint\u001b[0m\u001b[0;34m(\u001b[0m\u001b[0mfutureAge\u001b[0m\u001b[0;34m)\u001b[0m\u001b[0;34m\u001b[0m\u001b[0;34m\u001b[0m\u001b[0m\n",
      "\u001b[0;31mTypeError\u001b[0m: can only concatenate str (not \"int\") to str"
     ]
    }
   ],
   "source": [
    "futureAge = age + 5\n",
    "print(futureAge)"
   ]
  },
  {
   "cell_type": "markdown",
   "id": "99b8d9bb-3bd6-47c7-9a67-41623342ee80",
   "metadata": {},
   "source": [
    "But now we have run into an error trying to add 5 onto the age variable. This is because the input functions' default variable type is a string; therefore, you can't add an integer to a string variable type. \n",
    "\n",
    "**Tip:** If you are unsure why you are getting an error, the last line of the error message will tell you a bit about the error. For example, this type of error will always look like the above one.\n",
    "\n",
    "#### Let's fix this error\n",
    "\n",
    "By explicitly stating the variable type, we want the user input to be saved as we can avoid this issue."
   ]
  },
  {
   "cell_type": "code",
   "execution_count": 6,
   "id": "1d28f28f-61f7-47a2-ae9e-f4d27e9534db",
   "metadata": {},
   "outputs": [
    {
     "name": "stdin",
     "output_type": "stream",
     "text": [
      "What is your age?  25\n"
     ]
    },
    {
     "name": "stdout",
     "output_type": "stream",
     "text": [
      "25\n",
      "25\n"
     ]
    }
   ],
   "source": [
    "newAge = int(input(\"What is your age? \"));\n",
    "\n",
    "#Compared the two values \n",
    "print(age)\n",
    "print(newAge)"
   ]
  },
  {
   "cell_type": "markdown",
   "id": "1d43290a-aafd-4f22-abe7-5e7794f8cf0b",
   "metadata": {},
   "source": [
    "The values look exactly the same, but if I try to write a string value for age, the code will not accept it and throw an error:"
   ]
  },
  {
   "cell_type": "code",
   "execution_count": 7,
   "id": "9c06e150-2156-4acf-b242-863b77c76b70",
   "metadata": {},
   "outputs": [
    {
     "name": "stdin",
     "output_type": "stream",
     "text": [
      "What is your age?  25\n"
     ]
    }
   ],
   "source": [
    "newAge = int(input(\"What is your age? \"));"
   ]
  },
  {
   "cell_type": "markdown",
   "id": "e986e7c3-da6a-4128-9a01-222f48a085e7",
   "metadata": {},
   "source": [
    "Now, if we try to find the future age in five years again, It will perform the calculation:"
   ]
  },
  {
   "cell_type": "code",
   "execution_count": 8,
   "id": "f933e94d-e9ec-4312-af25-b303efc58156",
   "metadata": {},
   "outputs": [
    {
     "name": "stdin",
     "output_type": "stream",
     "text": [
      "What is your age?  25\n"
     ]
    },
    {
     "name": "stdout",
     "output_type": "stream",
     "text": [
      "30\n"
     ]
    }
   ],
   "source": [
    "newAge = int(input(\"What is your age? \"));\n",
    "futureAge = newAge + 5\n",
    "print(futureAge)"
   ]
  },
  {
   "cell_type": "markdown",
   "id": "3abfc83d-5cd7-4d4d-8612-1e9226d80844",
   "metadata": {},
   "source": [
    "## User Input Validation\n",
    "As mentioned in a previous notebook, if statements can be used to validate the users' input, for example, in the above example, we ask the user for their age, which means the number entered should be between 0 - 100. But currently, we could enter 567 or -46, which aren't valid ages. Below is an example of input validation for the age:"
   ]
  },
  {
   "cell_type": "code",
   "execution_count": 9,
   "id": "09ae92bf-1612-47e0-a1a1-6ef9bf93337a",
   "metadata": {},
   "outputs": [
    {
     "name": "stdin",
     "output_type": "stream",
     "text": [
      "What is your age?  234\n"
     ]
    },
    {
     "name": "stdout",
     "output_type": "stream",
     "text": [
      "The value entered is not a valid age, please try again\n"
     ]
    },
    {
     "name": "stdin",
     "output_type": "stream",
     "text": [
      "What is your age? (0-100)  36\n"
     ]
    }
   ],
   "source": [
    "validAge = int(input(\"What is your age? \"));\n",
    "if validAge < 0 or validAge > 100:\n",
    "    print(\"The value entered is not a valid age, please try again\")\n",
    "    #Add a extra helping hand in the question - a number between 0 and 100\n",
    "    validAge = int(input(\"What is your age? (0-100) \"));"
   ]
  },
  {
   "cell_type": "markdown",
   "id": "2755cee3-0bdf-4cd5-957a-2e8cbd9e5bf9",
   "metadata": {},
   "source": [
    "You could even go future and put the if statement in a while loop and continually ask and try validation for an age until the entry passes the validation check."
   ]
  },
  {
   "cell_type": "markdown",
   "id": "31b74224-495e-4644-b581-46f3682b6b85",
   "metadata": {},
   "source": [
    "## Try it Out Yourself\n",
    "\n",
    "Now that you have gone through the notebook, try editing some of the code snippets to see how the output or calculations change.\n",
    "\n",
    "Below is an empty code snippet for you to try out what has been covered in this notebook. You can run, stop and restart the code snippet as many times as you want by using the icons at the top of this notebook."
   ]
  },
  {
   "cell_type": "code",
   "execution_count": 10,
   "id": "424b1f4e-66b4-49c7-afd4-8fe828aa15f9",
   "metadata": {},
   "outputs": [],
   "source": [
    "#Enter your own code here\n",
    "\n",
    "\n",
    "\n",
    "\n",
    "\n",
    "\n",
    "\n",
    "\n"
   ]
  }
 ],
 "metadata": {
  "kernelspec": {
   "display_name": "Python 3 (ipykernel)",
   "language": "python",
   "name": "python3"
  },
  "language_info": {
   "codemirror_mode": {
    "name": "ipython",
    "version": 3
   },
   "file_extension": ".py",
   "mimetype": "text/x-python",
   "name": "python",
   "nbconvert_exporter": "python",
   "pygments_lexer": "ipython3",
   "version": "3.8.10"
  }
 },
 "nbformat": 4,
 "nbformat_minor": 5
}
