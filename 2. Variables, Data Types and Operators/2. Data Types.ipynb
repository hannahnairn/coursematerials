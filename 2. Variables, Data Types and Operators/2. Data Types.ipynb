{
 "cells": [
  {
   "cell_type": "markdown",
   "id": "1b277937-db6a-4e32-8624-3b896b85f4bc",
   "metadata": {},
   "source": [
    "# Data Types"
   ]
  },
  {
   "cell_type": "markdown",
   "id": "00d2feff-edc3-4be1-a190-14e75659848b",
   "metadata": {},
   "source": [
    "This notebook will cover the basics of data types in Python, and you'll be left with an understanding of how data types are used in Python."
   ]
  },
  {
   "cell_type": "markdown",
   "id": "f430aba0-7471-4076-9aa4-ed5db86526c0",
   "metadata": {},
   "source": [
    "## The Data Types in Python"
   ]
  },
  {
   "cell_type": "markdown",
   "id": "cfd5f919-f2c1-4666-9569-476e1242bf37",
   "metadata": {},
   "source": [
    "In Python data, types tell the computer what kind of data is stored in a given variable."
   ]
  },
  {
   "cell_type": "markdown",
   "id": "947ad44e-c7a2-43ff-ac9a-95183712bbdb",
   "metadata": {},
   "source": [
    "Here is a list of the variable types you can set your variables to; the first three are the ones we'll concentrate on as the other ones are more advanced:\n",
    "\n",
    "- str - is short for string. This is for text, just like this sentence\n",
    "- int - is short for integer. This is used for whole numbers like 34\n",
    "- float - this is for a decimal number like 34.567\n",
    "- complex\n",
    "- list\n",
    "- tuple\n",
    "- dict\n",
    "- set"
   ]
  },
  {
   "cell_type": "markdown",
   "id": "8240ea64-e246-44c9-b67a-9418cadd76de",
   "metadata": {},
   "source": [
    "As mentioned in the variables notebook, you can find a variables data type by using the type() function."
   ]
  },
  {
   "cell_type": "markdown",
   "id": "10821f05-108e-4ca8-afee-c400fba34f66",
   "metadata": {},
   "source": [
    "## Setting a Variables' Data Type "
   ]
  },
  {
   "cell_type": "markdown",
   "id": "942cfe86-e44f-4783-9826-d743c9dd1467",
   "metadata": {},
   "source": [
    "Python is an intelligent language in that you don't have to declare the data type, but you can, and you'll see why you might have to in a later example.\n",
    "\n",
    "Below are some examples of declaring a variables' data type."
   ]
  },
  {
   "cell_type": "code",
   "execution_count": 1,
   "id": "68772661-1a45-484f-ab17-cce16f4a25dd",
   "metadata": {},
   "outputs": [
    {
     "name": "stdout",
     "output_type": "stream",
     "text": [
      "This is a string.\n",
      "This is a string.\n",
      "67\n",
      "67\n",
      "78.364\n",
      "78.364\n"
     ]
    }
   ],
   "source": [
    "#Declaring str data type\n",
    "a = \"This is a string.\"\n",
    "b = str(\"This is a string.\")\n",
    "\n",
    "#Declearing int data type\n",
    "c = 67\n",
    "d = int(67)\n",
    "\n",
    "#Declaring float data type\n",
    "e = 78.364\n",
    "f = float(78.364)\n",
    "\n",
    "#Displaying the variables\n",
    "print(a)\n",
    "print(b)\n",
    "print(c)\n",
    "print(d)\n",
    "print(e)\n",
    "print(f)"
   ]
  },
  {
   "cell_type": "markdown",
   "id": "0c29bad9-3342-46ba-a325-e931d682a369",
   "metadata": {},
   "source": [
    "As you can see, the output for both types of declaration is the same. "
   ]
  },
  {
   "cell_type": "markdown",
   "id": "564f2d54-566e-4c03-bbf2-5385766ab23b",
   "metadata": {},
   "source": [
    "### When declaring goes wrong"
   ]
  },
  {
   "cell_type": "markdown",
   "id": "63ecf6f8-7b7e-4ea2-a0e3-efa7aa290104",
   "metadata": {},
   "source": [
    "You may wonder why there are two ways of declaring data types - automatically or expressly. There may be a time when python sets a variable a different way to how you expected it. \n",
    "\n",
    "For example, an integer could also be a string or a part of one. But if you go and try to use it as an integer, you will get an error."
   ]
  },
  {
   "cell_type": "code",
   "execution_count": 2,
   "id": "f8cc44f1-e15f-430a-84c3-5120fc1f4310",
   "metadata": {},
   "outputs": [
    {
     "name": "stdout",
     "output_type": "stream",
     "text": [
      "45\n",
      "78\n"
     ]
    }
   ],
   "source": [
    "#Set two variables\n",
    "x = \"45\"\n",
    "y = 78\n",
    "\n",
    "#Display them\n",
    "print(x)\n",
    "print(y)"
   ]
  },
  {
   "cell_type": "markdown",
   "id": "91c8ab28-150f-471a-8b05-f58d0bdeeedd",
   "metadata": {},
   "source": [
    "As you can see, the variable data types for x and y look the same when displayed but are different. But when you go to add the numbers together, you get an error because the data types do not match."
   ]
  },
  {
   "cell_type": "code",
   "execution_count": 3,
   "id": "899a1661-70d6-43b8-9543-c11a4fa298b4",
   "metadata": {},
   "outputs": [
    {
     "ename": "TypeError",
     "evalue": "can only concatenate str (not \"int\") to str",
     "output_type": "error",
     "traceback": [
      "\u001b[0;31m---------------------------------------------------------------------------\u001b[0m",
      "\u001b[0;31mTypeError\u001b[0m                                 Traceback (most recent call last)",
      "\u001b[0;32m/tmp/ipykernel_61/1769715634.py\u001b[0m in \u001b[0;36m<module>\u001b[0;34m\u001b[0m\n\u001b[0;32m----> 1\u001b[0;31m \u001b[0mz\u001b[0m \u001b[0;34m=\u001b[0m \u001b[0mx\u001b[0m \u001b[0;34m+\u001b[0m \u001b[0my\u001b[0m\u001b[0;34m\u001b[0m\u001b[0;34m\u001b[0m\u001b[0m\n\u001b[0m\u001b[1;32m      2\u001b[0m \u001b[0mprint\u001b[0m\u001b[0;34m(\u001b[0m\u001b[0mz\u001b[0m\u001b[0;34m)\u001b[0m\u001b[0;34m\u001b[0m\u001b[0;34m\u001b[0m\u001b[0m\n",
      "\u001b[0;31mTypeError\u001b[0m: can only concatenate str (not \"int\") to str"
     ]
    }
   ],
   "source": [
    "z = x + y\n",
    "print(z)"
   ]
  },
  {
   "cell_type": "markdown",
   "id": "f8ff3090-c65a-4da2-8f00-62b9083c9b52",
   "metadata": {},
   "source": [
    "This type of error is a common occurrence and is discussed more in an upcoming notebook."
   ]
  },
  {
   "cell_type": "markdown",
   "id": "7271cba1-c7fc-4005-b5a1-d889bc3c0c1a",
   "metadata": {},
   "source": [
    "## Try it Out Yourself"
   ]
  },
  {
   "cell_type": "markdown",
   "id": "66a752a5-00ab-48c2-a28a-2bc9790f69e1",
   "metadata": {},
   "source": [
    "Below is an empty code snippet for you to try out what has been covered in this notebook. You can run, stop and restart the code snippet as many times as you want by using the icons at the top of this notebook."
   ]
  },
  {
   "cell_type": "code",
   "execution_count": 4,
   "id": "4c277ec0-9dd9-41ad-b3b1-0324416175a2",
   "metadata": {},
   "outputs": [],
   "source": [
    "#Enter your own code here\n",
    "\n",
    "\n",
    "\n",
    "\n",
    "\n",
    "\n",
    "\n"
   ]
  }
 ],
 "metadata": {
  "kernelspec": {
   "display_name": "Python 3 (ipykernel)",
   "language": "python",
   "name": "python3"
  },
  "language_info": {
   "codemirror_mode": {
    "name": "ipython",
    "version": 3
   },
   "file_extension": ".py",
   "mimetype": "text/x-python",
   "name": "python",
   "nbconvert_exporter": "python",
   "pygments_lexer": "ipython3",
   "version": "3.8.10"
  }
 },
 "nbformat": 4,
 "nbformat_minor": 5
}
