{
 "cells": [
  {
   "cell_type": "markdown",
   "id": "1786deb8-efa6-4649-bda5-97a8c7e5bdff",
   "metadata": {},
   "source": [
    "# Operators"
   ]
  },
  {
   "cell_type": "markdown",
   "id": "84ff1278-d939-4447-bb61-57c3a3bade94",
   "metadata": {},
   "source": [
    "This notebook will cover the basics of operators in Python, and you'll be left with an understanding of how operators are used in Python."
   ]
  },
  {
   "cell_type": "markdown",
   "id": "54998c4f-6489-486a-ab35-4f70e4a89a02",
   "metadata": {},
   "source": [
    "## What is an Operator\n",
    "\n",
    "An operator is used to perform operations on variables or just values. You will have seen some used already in earlier notebooks. A simple example is below, using the plus (+) operator to add these values and variables together."
   ]
  },
  {
   "cell_type": "code",
   "execution_count": 1,
   "id": "f1b8491e-869a-49de-8499-9ce9d57e95ea",
   "metadata": {},
   "outputs": [
    {
     "name": "stdout",
     "output_type": "stream",
     "text": [
      "32\n",
      "16\n"
     ]
    }
   ],
   "source": [
    "#Just Values\n",
    "print(23 + 9)\n",
    "\n",
    "#Variables\n",
    "x = 10\n",
    "y = 6\n",
    "\n",
    "z = x + y\n",
    "print(z)"
   ]
  },
  {
   "cell_type": "markdown",
   "id": "91bf21c4-3408-4b72-a2a4-bbbcf9c2b6dc",
   "metadata": {},
   "source": [
    "## Operator Groups"
   ]
  },
  {
   "cell_type": "markdown",
   "id": "0ed6dbbf-093f-4831-8ebd-bb429a1e8491",
   "metadata": {},
   "source": [
    "In Python, there are a lot of operators, so they are put into groups. The groups are:\n",
    " - Arithmetic operators\n",
    " - Assignment operators\n",
    " - Comparison operators\n",
    " - Logical operators\n",
    " - Identity operators\n",
    " - Membership operators\n",
    " - Bitwise operators"
   ]
  },
  {
   "cell_type": "markdown",
   "id": "fd59682f-d847-4c3c-af83-3fb5dc2ffc50",
   "metadata": {},
   "source": [
    "This course will cover arithmetic, assignment, comparison and logical operator groups."
   ]
  },
  {
   "cell_type": "markdown",
   "id": "4bf3d87c-fa62-4885-a71d-931433426355",
   "metadata": {},
   "source": [
    "### Arithmetic Operators\n",
    "\n",
    "This group of operators is for all the mathematically operators. \n",
    "These include:\n",
    "\n",
    " - \" + \" Addition\n",
    " - \" - \" Subtraction\n",
    " - \" * \" Multiplication\n",
    " - \" / \" Division\n",
    "\n",
    "Here are some less common operators in the arithmetic group. These are not used as much as the above operators and are used in more advanced calculations.\n",
    "\n",
    " - \" % \"  Modulus\n",
    " - \" ** \" Exponentiation\n",
    " - \" // \" Floor Division\n",
    " \n",
    "Below are some code snippets showing some examples of the arithmetic operators:"
   ]
  },
  {
   "cell_type": "code",
   "execution_count": 2,
   "id": "237200dc-934e-426b-b222-f19573d4be8a",
   "metadata": {},
   "outputs": [],
   "source": [
    "#These are the variables going to be used throughout\n",
    "x = 9\n",
    "y = 4"
   ]
  },
  {
   "cell_type": "code",
   "execution_count": 3,
   "id": "cfa5a282-3114-41de-a02e-5a3543a1388c",
   "metadata": {},
   "outputs": [
    {
     "name": "stdout",
     "output_type": "stream",
     "text": [
      "Addition\n",
      "13\n"
     ]
    }
   ],
   "source": [
    "#Addition\n",
    "print(\"Addition\")\n",
    "print(x + y)"
   ]
  },
  {
   "cell_type": "code",
   "execution_count": 4,
   "id": "1ec8333f-c8e5-4ce7-b1e6-06edb0599807",
   "metadata": {},
   "outputs": [
    {
     "name": "stdout",
     "output_type": "stream",
     "text": [
      "Subtraction\n",
      "5\n"
     ]
    }
   ],
   "source": [
    "#Subtraction\n",
    "print(\"Subtraction\")\n",
    "print(x - y)"
   ]
  },
  {
   "cell_type": "code",
   "execution_count": 5,
   "id": "cfe75edf-3beb-426b-9ce8-0fec939fdc87",
   "metadata": {},
   "outputs": [
    {
     "name": "stdout",
     "output_type": "stream",
     "text": [
      "Multiplication\n",
      "36\n"
     ]
    }
   ],
   "source": [
    "#Multiplication\n",
    "print(\"Multiplication\")\n",
    "print(x * y)"
   ]
  },
  {
   "cell_type": "code",
   "execution_count": 6,
   "id": "8947b529-67b7-4077-8134-119fea32d2a6",
   "metadata": {},
   "outputs": [
    {
     "name": "stdout",
     "output_type": "stream",
     "text": [
      "Division\n",
      "2.25\n"
     ]
    }
   ],
   "source": [
    "#Division\n",
    "print(\"Division\")\n",
    "print(x / y)"
   ]
  },
  {
   "cell_type": "markdown",
   "id": "51125c58-5eb2-4cd9-a096-8860eead7872",
   "metadata": {},
   "source": [
    "### Assignment Operators\n",
    "\n",
    "This group of operators is for assigning values to variables. The most common ones are listed below:\n",
    "\n",
    " - \" = \" \n",
    " - \" += \" \n",
    " - \" -= \" \n",
    " - \" *= \" \n",
    " - \" /= \" \n",
    "\n",
    "There are less common assignment operators correlating to the less common arithmetic operators. These won't be covered in this course.\n",
    "\n",
    "Below are some code snippets with examples of the operators in use."
   ]
  },
  {
   "cell_type": "code",
   "execution_count": 7,
   "id": "6cb58cf2-e4ef-45d1-b792-de94a77d9a5b",
   "metadata": {},
   "outputs": [],
   "source": [
    "# = operator\n",
    "z = 8"
   ]
  },
  {
   "cell_type": "code",
   "execution_count": 8,
   "id": "1ea42ec2-35f6-4569-a96f-53145d531303",
   "metadata": {},
   "outputs": [],
   "source": [
    "# += operator\n",
    "z += 2 \n",
    "\n",
    "#This is the same as coding\n",
    "z = z + 2\n",
    "\n",
    "#whatever the variables value was plus 2"
   ]
  },
  {
   "cell_type": "code",
   "execution_count": 9,
   "id": "18c78d9a-1ccd-4d8e-8535-89b70ad6eb47",
   "metadata": {},
   "outputs": [],
   "source": [
    "# -= operator\n",
    "z -= 4 \n",
    "\n",
    "#This is the same as coding\n",
    "z = z - 4\n",
    "\n",
    "#whatever the variables value was minus 2"
   ]
  },
  {
   "cell_type": "code",
   "execution_count": 10,
   "id": "350fff68-4839-43a9-aced-2e315a62d003",
   "metadata": {},
   "outputs": [],
   "source": [
    "# *= operator\n",
    "z *= 3\n",
    "\n",
    "#This is the same as coding\n",
    "z = z * 3\n",
    "\n",
    "#whatever the variables value was times by 3"
   ]
  },
  {
   "cell_type": "code",
   "execution_count": 11,
   "id": "49f8b416-1075-41c0-8cb3-b0e62cf59212",
   "metadata": {},
   "outputs": [],
   "source": [
    "# /= operator\n",
    "z /= 2\n",
    "\n",
    "#This is the same as coding\n",
    "z = z / 2\n",
    "\n",
    "#whatever the variables value was divide by 2"
   ]
  },
  {
   "cell_type": "markdown",
   "id": "ea6530f0-7527-46aa-831d-e16f04f6432d",
   "metadata": {},
   "source": [
    "### Comparison Operators\n",
    "\n",
    "This group of operators is for comparing two variables.\n",
    " - \" == \"  Equal\n",
    " - \" != \"  Not Equal\n",
    " - \" > \"   Greater Than\n",
    " - \" < \"   Less Than\n",
    " - \" >= \"  Greater Than or Equal to\n",
    " - \" <= \"  Less Than or Equal to\n",
    "\n",
    "You'll use these in the following section, Control Flow, where you will see these operators used in context.\n",
    "\n",
    "Below are some example uses of the comparison operators. As there is no context, Python will still compute the comparison and give a boolean response; the comparison can be True or False."
   ]
  },
  {
   "cell_type": "code",
   "execution_count": 12,
   "id": "88c67ed9-cde5-4ab0-827d-cd2b0bdddaad",
   "metadata": {},
   "outputs": [
    {
     "data": {
      "text/plain": [
       "False"
      ]
     },
     "execution_count": 12,
     "metadata": {},
     "output_type": "execute_result"
    }
   ],
   "source": [
    "# some variables to make comparisons on\n",
    "a = 5\n",
    "b = 9\n",
    "\n",
    "# == operator\n",
    "a == b"
   ]
  },
  {
   "cell_type": "code",
   "execution_count": 13,
   "id": "c4cd6b1f-5465-4913-bbd6-45ec38a1e247",
   "metadata": {},
   "outputs": [
    {
     "data": {
      "text/plain": [
       "True"
      ]
     },
     "execution_count": 13,
     "metadata": {},
     "output_type": "execute_result"
    }
   ],
   "source": [
    "# != operator\n",
    "a != b"
   ]
  },
  {
   "cell_type": "code",
   "execution_count": 14,
   "id": "c5883ebb-4dee-4e82-b24e-9e68edb9c2ac",
   "metadata": {},
   "outputs": [
    {
     "data": {
      "text/plain": [
       "False"
      ]
     },
     "execution_count": 14,
     "metadata": {},
     "output_type": "execute_result"
    }
   ],
   "source": [
    "# > operator\n",
    "a > b"
   ]
  },
  {
   "cell_type": "code",
   "execution_count": 15,
   "id": "13360d92-65cf-4960-9cd5-c5cc8fe8bc14",
   "metadata": {},
   "outputs": [
    {
     "data": {
      "text/plain": [
       "True"
      ]
     },
     "execution_count": 15,
     "metadata": {},
     "output_type": "execute_result"
    }
   ],
   "source": [
    "# < operator\n",
    "a < b"
   ]
  },
  {
   "cell_type": "code",
   "execution_count": 16,
   "id": "e4dd3ad7-350a-499b-b2d5-452ec0176e4b",
   "metadata": {},
   "outputs": [
    {
     "data": {
      "text/plain": [
       "False"
      ]
     },
     "execution_count": 16,
     "metadata": {},
     "output_type": "execute_result"
    }
   ],
   "source": [
    "# >= operator\n",
    "a >= b"
   ]
  },
  {
   "cell_type": "code",
   "execution_count": 17,
   "id": "815ee356-6b86-47e7-9f96-c07b05852645",
   "metadata": {},
   "outputs": [
    {
     "data": {
      "text/plain": [
       "True"
      ]
     },
     "execution_count": 17,
     "metadata": {},
     "output_type": "execute_result"
    }
   ],
   "source": [
    "# <= operator\n",
    "a <= b"
   ]
  },
  {
   "cell_type": "markdown",
   "id": "11b6ce5b-164a-4f48-9ab7-4ba0bbc38b10",
   "metadata": {},
   "source": [
    "### Logical Operators\n",
    "\n",
    "The last group of operators covered in this course will be Logical Operators.\n",
    "\n",
    "This group of operators is used to combine conditional statements. \n",
    " - \" and \" Both statements must be true to return True\n",
    " - \" or \"  One of the statements must be true to return True\n",
    " - \" not \" Will return the opposite result of the statements\n",
    "\n",
    "You'll use these in the following section, Control Flow, where you will see these operators used in context.\n",
    "\n",
    "Below are some example uses of the logical operators. As there are no in context, Python will still compute the code and give a boolean response; the output can be True or False, the same as the comparison operators above."
   ]
  },
  {
   "cell_type": "code",
   "execution_count": 18,
   "id": "9d35bb1c-cb0f-4ace-a220-ea3a83b43f59",
   "metadata": {},
   "outputs": [],
   "source": [
    "# some variables to use\n",
    "c = 2\n",
    "d = 8"
   ]
  },
  {
   "cell_type": "code",
   "execution_count": 19,
   "id": "d4285d74-8a4b-4767-9489-bfc1da3afbc8",
   "metadata": {},
   "outputs": [
    {
     "name": "stdout",
     "output_type": "stream",
     "text": [
      "False\n",
      "True\n"
     ]
    }
   ],
   "source": [
    "# and operator \n",
    "\n",
    "# the first statement is correct but the second is not; \n",
    "#  result will equal false - value given to variable e\n",
    "e = d > 1 and d < 6 \n",
    "print(e)\n",
    "\n",
    "# the first and second statement are correct;\n",
    "#  result will equal true - value given to variable f\n",
    "f = c > 1 and c < 4 \n",
    "print(f)"
   ]
  },
  {
   "cell_type": "code",
   "execution_count": 20,
   "id": "d090d6d9-3f6f-4f82-a9ba-c3fc48b293bf",
   "metadata": {},
   "outputs": [
    {
     "name": "stdout",
     "output_type": "stream",
     "text": [
      "True\n",
      "True\n"
     ]
    }
   ],
   "source": [
    "# or operator \n",
    "\n",
    "# the first statement is correct but the second is not; \n",
    "#  result will equal true - value given to variable e\n",
    "e = d > 1 or d < 6 \n",
    "print(e)\n",
    "\n",
    "# the first and second statement are correct - all we needed was one so;\n",
    "#  result will equal true - value given to variable f\n",
    "f = c > 1 and c < 4 \n",
    "print(f)"
   ]
  },
  {
   "cell_type": "code",
   "execution_count": 21,
   "id": "485425f3-6aa9-4b0c-b5e5-254b04f6a345",
   "metadata": {},
   "outputs": [
    {
     "name": "stdout",
     "output_type": "stream",
     "text": [
      "True\n",
      "False\n"
     ]
    }
   ],
   "source": [
    "# not operator \n",
    "\n",
    "#reverse the and examples\n",
    "#The opposite result will be given true becomes false \n",
    "# and false results become truw\n",
    "\n",
    "e = not(d > 1 and d < 6)\n",
    "print(e)\n",
    "\n",
    "f = not(c > 1 and c < 4 )\n",
    "print(f)"
   ]
  },
  {
   "cell_type": "markdown",
   "id": "f61b5a81-1d9b-413c-b1a9-0bb19dd60a4c",
   "metadata": {},
   "source": [
    "## Try it Out Yourself\n",
    "\n",
    "Now that you have gone through the notebook try editing some of the code snippets variables' values and/or the operators to see how the output changes.\n",
    "\n",
    "Below is an empty code snippet for you to try out what has been covered in this notebook. You can run, stop and restart the code snippet as many times as you want by using the icons at the top of this notebook."
   ]
  },
  {
   "cell_type": "code",
   "execution_count": 22,
   "id": "97a3d483-8d87-44a4-9f86-71abf2b46244",
   "metadata": {},
   "outputs": [],
   "source": [
    "#Enter your own code here\n",
    "\n",
    "\n",
    "\n",
    "\n",
    "\n",
    "\n",
    "\n",
    "\n"
   ]
  }
 ],
 "metadata": {
  "kernelspec": {
   "display_name": "Python 3 (ipykernel)",
   "language": "python",
   "name": "python3"
  },
  "language_info": {
   "codemirror_mode": {
    "name": "ipython",
    "version": 3
   },
   "file_extension": ".py",
   "mimetype": "text/x-python",
   "name": "python",
   "nbconvert_exporter": "python",
   "pygments_lexer": "ipython3",
   "version": "3.8.10"
  }
 },
 "nbformat": 4,
 "nbformat_minor": 5
}
